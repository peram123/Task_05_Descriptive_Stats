{
 "cells": [
  {
   "cell_type": "code",
   "execution_count": 21,
   "id": "caa77e0f",
   "metadata": {},
   "outputs": [
    {
     "name": "stdout",
     "output_type": "stream",
     "text": [
      "✅ CSV saved: xml_data/player_stats_2024_from_html.csv\n"
     ]
    }
   ],
   "source": [
    "import re\n",
    "import pandas as pd\n",
    "\n",
    "# Set the year\n",
    "year = 2024\n",
    "\n",
    "# Load the malformed XML as plain text\n",
    "with open(f\"xml_data/{year}.xml\", \"r\", encoding=\"utf-8\", errors=\"ignore\") as file:\n",
    "    raw_text = file.read()\n",
    "\n",
    "# Extract table rows\n",
    "rows = re.findall(r\"<tr[^>]*>(.*?)</tr>\", raw_text, re.DOTALL)\n",
    "\n",
    "# Extract table cells from each row\n",
    "player_data = []\n",
    "for row in rows:\n",
    "    cols = re.findall(r\"<t[dh][^>]*>(.*?)</t[dh]>\", row, re.DOTALL)\n",
    "    cleaned = [re.sub(\"<.*?>\", \"\", col).strip() for col in cols]\n",
    "    player_data.append(cleaned)\n",
    "\n",
    "# Filter out short rows\n",
    "player_data = [row for row in player_data if len(row) > 5]\n",
    "\n",
    "# Convert to DataFrame\n",
    "df = pd.DataFrame(player_data)\n",
    "\n",
    "# Use first row as header (if it contains field names)\n",
    "if df.iloc[0].str.contains(\"Player|Name|G|PTS\", case=False, regex=True).any():\n",
    "    df.columns = df.iloc[0]\n",
    "    df = df.drop(index=0).reset_index(drop=True)\n",
    "\n",
    "# Add the year as a new column\n",
    "df[\"Year\"] = year\n",
    "\n",
    "# Save to CSV\n",
    "df.to_csv(f\"xml_data/player_stats_{year}_from_html.csv\", index=False)\n",
    "print(f\"✅ CSV saved: xml_data/player_stats_{year}_from_html.csv\")\n"
   ]
  },
  {
   "cell_type": "code",
   "execution_count": 22,
   "id": "a70746c5",
   "metadata": {},
   "outputs": [
    {
     "name": "stdout",
     "output_type": "stream",
     "text": [
      "✅ CSV saved: xml_data/player_stats_2025_from_html.csv\n"
     ]
    }
   ],
   "source": [
    "import re\n",
    "import pandas as pd\n",
    "\n",
    "# Set the year\n",
    "year = 2025\n",
    "\n",
    "# Load the malformed XML as plain text\n",
    "with open(f\"xml_data/{year}.xml\", \"r\", encoding=\"utf-8\", errors=\"ignore\") as file:\n",
    "    raw_text = file.read()\n",
    "\n",
    "# Extract table rows\n",
    "rows = re.findall(r\"<tr[^>]*>(.*?)</tr>\", raw_text, re.DOTALL)\n",
    "\n",
    "# Extract table cells from each row\n",
    "player_data = []\n",
    "for row in rows:\n",
    "    cols = re.findall(r\"<t[dh][^>]*>(.*?)</t[dh]>\", row, re.DOTALL)\n",
    "    cleaned = [re.sub(\"<.*?>\", \"\", col).strip() for col in cols]\n",
    "    player_data.append(cleaned)\n",
    "\n",
    "# Filter out short rows\n",
    "player_data = [row for row in player_data if len(row) > 5]\n",
    "\n",
    "# Convert to DataFrame\n",
    "df = pd.DataFrame(player_data)\n",
    "\n",
    "# Use first row as header (if it contains field names)\n",
    "if df.iloc[0].str.contains(\"Player|Name|G|PTS\", case=False, regex=True).any():\n",
    "    df.columns = df.iloc[0]\n",
    "    df = df.drop(index=0).reset_index(drop=True)\n",
    "\n",
    "# Add the year as a new column\n",
    "df[\"Year\"] = year\n",
    "\n",
    "# Save to CSV\n",
    "df.to_csv(f\"xml_data/player_stats_{year}_from_html.csv\", index=False)\n",
    "print(f\"✅ CSV saved: xml_data/player_stats_{year}_from_html.csv\")\n"
   ]
  },
  {
   "cell_type": "code",
   "execution_count": 23,
   "id": "6ddd70a1",
   "metadata": {},
   "outputs": [
    {
     "name": "stdout",
     "output_type": "stream",
     "text": [
      "✅ CSV saved: xml_data/player_stats_2023_from_html.csv\n"
     ]
    }
   ],
   "source": [
    "import re\n",
    "import pandas as pd\n",
    "\n",
    "# Set the year\n",
    "year = 2023\n",
    "\n",
    "# Load the malformed XML as plain text\n",
    "with open(f\"xml_data/{year}.xml\", \"r\", encoding=\"utf-8\", errors=\"ignore\") as file:\n",
    "    raw_text = file.read()\n",
    "\n",
    "# Extract table rows\n",
    "rows = re.findall(r\"<tr[^>]*>(.*?)</tr>\", raw_text, re.DOTALL)\n",
    "\n",
    "# Extract table cells from each row\n",
    "player_data = []\n",
    "for row in rows:\n",
    "    cols = re.findall(r\"<t[dh][^>]*>(.*?)</t[dh]>\", row, re.DOTALL)\n",
    "    cleaned = [re.sub(\"<.*?>\", \"\", col).strip() for col in cols]\n",
    "    player_data.append(cleaned)\n",
    "\n",
    "# Filter out short rows\n",
    "player_data = [row for row in player_data if len(row) > 5]\n",
    "\n",
    "# Convert to DataFrame\n",
    "df = pd.DataFrame(player_data)\n",
    "\n",
    "# Use first row as header (if it contains field names)\n",
    "if df.iloc[0].str.contains(\"Player|Name|G|PTS\", case=False, regex=True).any():\n",
    "    df.columns = df.iloc[0]\n",
    "    df = df.drop(index=0).reset_index(drop=True)\n",
    "\n",
    "# Add the year as a new column\n",
    "df[\"Year\"] = year\n",
    "\n",
    "# Save to CSV\n",
    "df.to_csv(f\"xml_data/player_stats_{year}_from_html.csv\", index=False)\n",
    "print(f\"✅ CSV saved: xml_data/player_stats_{year}_from_html.csv\")\n"
   ]
  },
  {
   "cell_type": "code",
   "execution_count": 24,
   "id": "47223d67",
   "metadata": {},
   "outputs": [
    {
     "name": "stdout",
     "output_type": "stream",
     "text": [
      "✅ CSV saved: xml_data/player_stats_2022_from_html.csv\n"
     ]
    }
   ],
   "source": [
    "import re\n",
    "import pandas as pd\n",
    "\n",
    "# Set the year\n",
    "year = 2022\n",
    "\n",
    "# Load the malformed XML as plain text\n",
    "with open(f\"xml_data/{year}.xml\", \"r\", encoding=\"utf-8\", errors=\"ignore\") as file:\n",
    "    raw_text = file.read()\n",
    "\n",
    "# Extract table rows\n",
    "rows = re.findall(r\"<tr[^>]*>(.*?)</tr>\", raw_text, re.DOTALL)\n",
    "\n",
    "# Extract table cells from each row\n",
    "player_data = []\n",
    "for row in rows:\n",
    "    cols = re.findall(r\"<t[dh][^>]*>(.*?)</t[dh]>\", row, re.DOTALL)\n",
    "    cleaned = [re.sub(\"<.*?>\", \"\", col).strip() for col in cols]\n",
    "    player_data.append(cleaned)\n",
    "\n",
    "# Filter out short rows\n",
    "player_data = [row for row in player_data if len(row) > 5]\n",
    "\n",
    "# Convert to DataFrame\n",
    "df = pd.DataFrame(player_data)\n",
    "\n",
    "# Use first row as header (if it contains field names)\n",
    "if df.iloc[0].str.contains(\"Player|Name|G|PTS\", case=False, regex=True).any():\n",
    "    df.columns = df.iloc[0]\n",
    "    df = df.drop(index=0).reset_index(drop=True)\n",
    "\n",
    "# Add the year as a new column\n",
    "df[\"Year\"] = year\n",
    "\n",
    "# Save to CSV\n",
    "df.to_csv(f\"xml_data/player_stats_{year}_from_html.csv\", index=False)\n",
    "print(f\"✅ CSV saved: xml_data/player_stats_{year}_from_html.csv\")\n"
   ]
  },
  {
   "cell_type": "code",
   "execution_count": 25,
   "id": "c57795b2",
   "metadata": {},
   "outputs": [
    {
     "name": "stdout",
     "output_type": "stream",
     "text": [
      "✅ CSV saved: xml_data/player_stats_2021_from_html.csv\n"
     ]
    }
   ],
   "source": [
    "import re\n",
    "import pandas as pd\n",
    "\n",
    "# Set the year\n",
    "year = 2021\n",
    "\n",
    "# Load the malformed XML as plain text\n",
    "with open(f\"xml_data/{year}.xml\", \"r\", encoding=\"utf-8\", errors=\"ignore\") as file:\n",
    "    raw_text = file.read()\n",
    "\n",
    "# Extract table rows\n",
    "rows = re.findall(r\"<tr[^>]*>(.*?)</tr>\", raw_text, re.DOTALL)\n",
    "\n",
    "# Extract table cells from each row\n",
    "player_data = []\n",
    "for row in rows:\n",
    "    cols = re.findall(r\"<t[dh][^>]*>(.*?)</t[dh]>\", row, re.DOTALL)\n",
    "    cleaned = [re.sub(\"<.*?>\", \"\", col).strip() for col in cols]\n",
    "    player_data.append(cleaned)\n",
    "\n",
    "# Filter out short rows\n",
    "player_data = [row for row in player_data if len(row) > 5]\n",
    "\n",
    "# Convert to DataFrame\n",
    "df = pd.DataFrame(player_data)\n",
    "\n",
    "# Use first row as header (if it contains field names)\n",
    "if df.iloc[0].str.contains(\"Player|Name|G|PTS\", case=False, regex=True).any():\n",
    "    df.columns = df.iloc[0]\n",
    "    df = df.drop(index=0).reset_index(drop=True)\n",
    "\n",
    "# Add the year as a new column\n",
    "df[\"Year\"] = year\n",
    "\n",
    "# Save to CSV\n",
    "df.to_csv(f\"xml_data/player_stats_{year}_from_html.csv\", index=False)\n",
    "print(f\"✅ CSV saved: xml_data/player_stats_{year}_from_html.csv\")\n"
   ]
  },
  {
   "cell_type": "code",
   "execution_count": 26,
   "id": "a59e6849",
   "metadata": {},
   "outputs": [
    {
     "name": "stdout",
     "output_type": "stream",
     "text": [
      "✅ CSV saved: xml_data/player_stats_2020_from_html.csv\n"
     ]
    }
   ],
   "source": [
    "import re\n",
    "import pandas as pd\n",
    "\n",
    "# Set the year\n",
    "year = 2020\n",
    "\n",
    "# Load the malformed XML as plain text\n",
    "with open(f\"xml_data/{year}.xml\", \"r\", encoding=\"utf-8\", errors=\"ignore\") as file:\n",
    "    raw_text = file.read()\n",
    "\n",
    "# Extract table rows\n",
    "rows = re.findall(r\"<tr[^>]*>(.*?)</tr>\", raw_text, re.DOTALL)\n",
    "\n",
    "# Extract table cells from each row\n",
    "player_data = []\n",
    "for row in rows:\n",
    "    cols = re.findall(r\"<t[dh][^>]*>(.*?)</t[dh]>\", row, re.DOTALL)\n",
    "    cleaned = [re.sub(\"<.*?>\", \"\", col).strip() for col in cols]\n",
    "    player_data.append(cleaned)\n",
    "\n",
    "# Filter out short rows\n",
    "player_data = [row for row in player_data if len(row) > 5]\n",
    "\n",
    "# Convert to DataFrame\n",
    "df = pd.DataFrame(player_data)\n",
    "\n",
    "# Use first row as header (if it contains field names)\n",
    "if df.iloc[0].str.contains(\"Player|Name|G|PTS\", case=False, regex=True).any():\n",
    "    df.columns = df.iloc[0]\n",
    "    df = df.drop(index=0).reset_index(drop=True)\n",
    "\n",
    "# Add the year as a new column\n",
    "df[\"Year\"] = year\n",
    "\n",
    "# Save to CSV\n",
    "df.to_csv(f\"xml_data/player_stats_{year}_from_html.csv\", index=False)\n",
    "print(f\"✅ CSV saved: xml_data/player_stats_{year}_from_html.csv\")\n"
   ]
  },
  {
   "cell_type": "code",
   "execution_count": 27,
   "id": "5e2a9435",
   "metadata": {},
   "outputs": [
    {
     "name": "stdout",
     "output_type": "stream",
     "text": [
      "✅ Combined CSV saved as: xml_data/all_years_combined_player_stats.csv\n"
     ]
    }
   ],
   "source": [
    "import pandas as pd\n",
    "import glob\n",
    "\n",
    "# Collect all your cleaned CSVs\n",
    "csv_files = sorted(glob.glob(\"xml_data/player_stats_20*_from_html.csv\"))\n",
    "\n",
    "combined_df = pd.DataFrame()\n",
    "\n",
    "for file in csv_files:\n",
    "    df = pd.read_csv(file)\n",
    "\n",
    "    # Ensure 'Year' column exists\n",
    "    if \"Year\" not in df.columns:\n",
    "        year = file.split(\"_\")[2]\n",
    "        df[\"Year\"] = year\n",
    "\n",
    "    combined_df = pd.concat([combined_df, df], ignore_index=True)\n",
    "\n",
    "# Save combined result\n",
    "combined_df.to_csv(\"xml_data/all_years_combined_player_stats.csv\", index=False)\n",
    "print(\"✅ Combined CSV saved as: xml_data/all_years_combined_player_stats.csv\")\n",
    "\n"
   ]
  }
 ],
 "metadata": {
  "kernelspec": {
   "display_name": "Python 3",
   "language": "python",
   "name": "python3"
  },
  "language_info": {
   "codemirror_mode": {
    "name": "ipython",
    "version": 3
   },
   "file_extension": ".py",
   "mimetype": "text/x-python",
   "name": "python",
   "nbconvert_exporter": "python",
   "pygments_lexer": "ipython3",
   "version": "3.12.1"
  }
 },
 "nbformat": 4,
 "nbformat_minor": 5
}
