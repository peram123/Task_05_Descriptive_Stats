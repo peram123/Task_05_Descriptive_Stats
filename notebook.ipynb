{
 "cells": [
  {
   "cell_type": "code",
   "execution_count": 7,
   "id": "bc75111e",
   "metadata": {},
   "outputs": [
    {
     "name": "stdout",
     "output_type": "stream",
     "text": [
      "📥 Downloading 2025 from https://cuse.com/sports/womens-lacrosse/stats/2025/\n",
      "✅ Saved: xml_data/2025.xml\n",
      "📥 Downloading 2024 from https://cuse.com/sports/womens-lacrosse/stats/2024/\n",
      "✅ Saved: xml_data/2024.xml\n",
      "📥 Downloading 2023 from https://cuse.com/sports/womens-lacrosse/stats/2023/\n",
      "✅ Saved: xml_data/2023.xml\n",
      "📥 Downloading 2022 from https://cuse.com/sports/womens-lacrosse/stats/2022/\n",
      "✅ Saved: xml_data/2022.xml\n",
      "📥 Downloading 2021 from https://cuse.com/sports/womens-lacrosse/stats/2021/\n",
      "✅ Saved: xml_data/2021.xml\n",
      "📥 Downloading 2020 from https://cuse.com/sports/womens-lacrosse/stats/2020/\n",
      "✅ Saved: xml_data/2020.xml\n"
     ]
    }
   ],
   "source": [
    "import requests\n",
    "import os\n",
    "\n",
    "xml_links = {\n",
    "    \"2025\": \"https://cuse.com/sports/womens-lacrosse/stats/2025/\",\n",
    "    \"2024\": \"https://cuse.com/sports/womens-lacrosse/stats/2024/\",\n",
    "    \"2023\": \"https://cuse.com/sports/womens-lacrosse/stats/2023/\",\n",
    "    \"2022\": \"https://cuse.com/sports/womens-lacrosse/stats/2022/\",\n",
    "    \"2021\": \"https://cuse.com/sports/womens-lacrosse/stats/2021/\",\n",
    "    \"2020\": \"https://cuse.com/sports/womens-lacrosse/stats/2020/\"\n",
    "}\n",
    "\n",
    "os.makedirs(\"xml_data\", exist_ok=True)\n",
    "\n",
    "for year, url in xml_links.items():\n",
    "    print(f\"📥 Downloading {year} from {url}\")\n",
    "    try:\n",
    "        r = requests.get(url)\n",
    "        with open(f\"xml_data/{year}.xml\", \"w\", encoding=\"utf-8\") as f:\n",
    "            f.write(r.text)\n",
    "        print(f\"✅ Saved: xml_data/{year}.xml\")\n",
    "    except Exception as e:\n",
    "        print(f\"❌ Failed to download {year}: {e}\")\n"
   ]
  }
 ],
 "metadata": {
  "kernelspec": {
   "display_name": "Python 3",
   "language": "python",
   "name": "python3"
  },
  "language_info": {
   "codemirror_mode": {
    "name": "ipython",
    "version": 3
   },
   "file_extension": ".py",
   "mimetype": "text/x-python",
   "name": "python",
   "nbconvert_exporter": "python",
   "pygments_lexer": "ipython3",
   "version": "3.12.1"
  }
 },
 "nbformat": 4,
 "nbformat_minor": 5
}
