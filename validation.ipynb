{
 "cells": [
  {
   "cell_type": "markdown",
   "id": "e3112c5f",
   "metadata": {},
   "source": [
    " How many goals did the SU Women’s Lacrosse team score in 2023?\n",
    "\n"
   ]
  },
  {
   "cell_type": "code",
   "execution_count": 3,
   "id": "ce25136b",
   "metadata": {},
   "outputs": [],
   "source": [
    "import pandas as pd\n",
    "\n",
    "# Load your cleaned dataset\n",
    "df = pd.read_csv(\"all_years_combined_player_stats.csv\")\n",
    "# First, drop rows where 'gp - gs' is null or doesn't contain a \"-\"\n",
    "df = df[df['gp - gs'].notnull() & df['gp - gs'].str.contains('-')].copy()\n",
    "\n",
    "# Now safely split and convert\n",
    "df[['GP', 'GS']] = df['gp - gs'].str.split('-', expand=True)\n",
    "df['GP'] = pd.to_numeric(df['GP'], errors='coerce').fillna(0).astype(int)\n",
    "df['GS'] = pd.to_numeric(df['GS'], errors='coerce').fillna(0).astype(int)\n",
    "\n",
    "# Drop the old columns if needed\n",
    "df.drop(columns=['gp - gs', '#'], inplace=True, errors='ignore')\n",
    "\n",
    "# Rename others if needed\n",
    "df.rename(columns={\n",
    "    'g': 'Goals',\n",
    "    'A': 'Assists',\n",
    "    'pts': 'Points',\n",
    "    'sh': 'Shots',\n",
    "    'sh%': 'Shot_Percentage',\n",
    "    'sog': 'Shots_On_Goal',\n",
    "    'sog%': 'SOG_Percentage',\n",
    "    'gwg': 'Game_Winning_Goals',\n",
    "    'FPG': 'Free_Position_Goals',\n",
    "    'FPS': 'Free_Position_Shots',\n",
    "    'GB': 'Ground_Balls',\n",
    "    'to': 'Turnovers',\n",
    "    'ct': 'Caused_Turnovers',\n",
    "    'dc': 'Draw_Controls',\n",
    "    'fouls': 'Fouls',\n",
    "    'RC-YC-GC': 'Cards'\n",
    "}, inplace=True)\n"
   ]
  },
  {
   "cell_type": "markdown",
   "id": "74f76b27",
   "metadata": {},
   "source": [
    "How many goals did the SU Women’s Lacrosse team score in 2023?"
   ]
  },
  {
   "cell_type": "code",
   "execution_count": 22,
   "id": "a10bb9b4",
   "metadata": {},
   "outputs": [
    {
     "data": {
      "text/plain": [
       "np.int64(337)"
      ]
     },
     "execution_count": 22,
     "metadata": {},
     "output_type": "execute_result"
    }
   ],
   "source": [
    "df[df['Year'] == 2023]['Goals'].sum()"
   ]
  },
  {
   "cell_type": "markdown",
   "id": "9125cf7b",
   "metadata": {},
   "source": [
    "Who had the most assists in 2023?"
   ]
  },
  {
   "cell_type": "code",
   "execution_count": 23,
   "id": "313331a6",
   "metadata": {},
   "outputs": [
    {
     "data": {
      "text/plain": [
       "Player                 Ward, Emma\n",
       "Goals                          38\n",
       "Assists                        56\n",
       "Points                         94\n",
       "Shots                          73\n",
       "Shot_Percentage             0.521\n",
       "Shots_On_Goal                  48\n",
       "SOG_Percentage              0.658\n",
       "Game_Winning_Goals              1\n",
       "Free_Position_Goals             7\n",
       "Free_Position_Shots            12\n",
       "Ground_Balls                    9\n",
       "Turnovers                      30\n",
       "Caused_Turnovers                1\n",
       "Draw_Controls                   0\n",
       "Fouls                          15\n",
       "Cards                       0-2-0\n",
       "Year                         2023\n",
       "GP                             21\n",
       "GS                              3\n",
       "Name: 108, dtype: object"
      ]
     },
     "execution_count": 23,
     "metadata": {},
     "output_type": "execute_result"
    }
   ],
   "source": [
    "df[df['Year'] == 2023].sort_values('Assists', ascending=False).iloc[0]"
   ]
  },
  {
   "cell_type": "markdown",
   "id": "f4418833",
   "metadata": {},
   "source": [
    "Who had the highest shooting accuracy (SOG%) overall?"
   ]
  },
  {
   "cell_type": "code",
   "execution_count": 21,
   "id": "41a47aeb",
   "metadata": {},
   "outputs": [
    {
     "name": "stdout",
     "output_type": "stream",
     "text": [
      "Top SOG% Performer with Minimum 10 Shots:\n",
      "Player            Alexander, Morgan\n",
      "Goals                             5\n",
      "Shots                            14\n",
      "SOG_Percentage                0.929\n",
      "Name: 46, dtype: object\n"
     ]
    }
   ],
   "source": [
    "df_filtered = df[df['Shots'] >= 10] \n",
    "top_sog = df_filtered.sort_values('SOG_Percentage', ascending=False).iloc[0]\n",
    "\n",
    "print(\"Top SOG% Performer with Minimum 10 Shots:\")\n",
    "print(top_sog[['Player', 'Goals', 'Shots', 'SOG_Percentage']])"
   ]
  },
  {
   "cell_type": "markdown",
   "id": "a4774b09",
   "metadata": {},
   "source": [
    "Who was the MVP in 2025 based on the Value_Score?"
   ]
  },
  {
   "cell_type": "code",
   "execution_count": 26,
   "id": "4f555c0a",
   "metadata": {},
   "outputs": [],
   "source": [
    "def compute_value_score(row):\n",
    "    return (\n",
    "        row['Goals'] * 2 +\n",
    "        row['Assists'] * 1.5 +\n",
    "        row['Game_Winning_Goals'] * 3 +\n",
    "        row['SOG_Percentage'] * 5 -\n",
    "        row['Turnovers']\n",
    "    )\n",
    "\n",
    "df['Value_Score'] = df.apply(compute_value_score, axis=1)\n",
    "\n",
    "mvp_by_year = df.loc[df.groupby('Year')['Value_Score'].idxmax()][['Year', 'Player', 'Value_Score']]"
   ]
  },
  {
   "cell_type": "code",
   "execution_count": 28,
   "id": "d80d656c",
   "metadata": {},
   "outputs": [
    {
     "data": {
      "text/html": [
       "<div>\n",
       "<style scoped>\n",
       "    .dataframe tbody tr th:only-of-type {\n",
       "        vertical-align: middle;\n",
       "    }\n",
       "\n",
       "    .dataframe tbody tr th {\n",
       "        vertical-align: top;\n",
       "    }\n",
       "\n",
       "    .dataframe thead th {\n",
       "        text-align: right;\n",
       "    }\n",
       "</style>\n",
       "<table border=\"1\" class=\"dataframe\">\n",
       "  <thead>\n",
       "    <tr style=\"text-align: right;\">\n",
       "      <th></th>\n",
       "      <th>Player</th>\n",
       "      <th>Goals</th>\n",
       "      <th>Assists</th>\n",
       "      <th>Points</th>\n",
       "      <th>Shots</th>\n",
       "      <th>Shot_Percentage</th>\n",
       "      <th>Shots_On_Goal</th>\n",
       "      <th>SOG_Percentage</th>\n",
       "      <th>Game_Winning_Goals</th>\n",
       "      <th>Free_Position_Goals</th>\n",
       "      <th>...</th>\n",
       "      <th>Ground_Balls</th>\n",
       "      <th>Turnovers</th>\n",
       "      <th>Caused_Turnovers</th>\n",
       "      <th>Draw_Controls</th>\n",
       "      <th>Fouls</th>\n",
       "      <th>Cards</th>\n",
       "      <th>Year</th>\n",
       "      <th>GP</th>\n",
       "      <th>GS</th>\n",
       "      <th>Value_Score</th>\n",
       "    </tr>\n",
       "  </thead>\n",
       "  <tbody>\n",
       "    <tr>\n",
       "      <th>179</th>\n",
       "      <td>Ward, Emma</td>\n",
       "      <td>30</td>\n",
       "      <td>46</td>\n",
       "      <td>76</td>\n",
       "      <td>77</td>\n",
       "      <td>0.39</td>\n",
       "      <td>55</td>\n",
       "      <td>0.714</td>\n",
       "      <td>1</td>\n",
       "      <td>3</td>\n",
       "      <td>...</td>\n",
       "      <td>6</td>\n",
       "      <td>41</td>\n",
       "      <td>2</td>\n",
       "      <td>0</td>\n",
       "      <td>9</td>\n",
       "      <td>0-1-0</td>\n",
       "      <td>2025</td>\n",
       "      <td>19</td>\n",
       "      <td>19</td>\n",
       "      <td>94.57</td>\n",
       "    </tr>\n",
       "  </tbody>\n",
       "</table>\n",
       "<p>1 rows × 21 columns</p>\n",
       "</div>"
      ],
      "text/plain": [
       "         Player  Goals  Assists  Points  Shots  Shot_Percentage  \\\n",
       "179  Ward, Emma     30       46      76     77             0.39   \n",
       "\n",
       "     Shots_On_Goal  SOG_Percentage  Game_Winning_Goals  Free_Position_Goals  \\\n",
       "179             55           0.714                   1                    3   \n",
       "\n",
       "     ...  Ground_Balls  Turnovers  Caused_Turnovers  Draw_Controls  Fouls  \\\n",
       "179  ...             6         41                 2              0      9   \n",
       "\n",
       "     Cards  Year  GP  GS  Value_Score  \n",
       "179  0-1-0  2025  19  19        94.57  \n",
       "\n",
       "[1 rows x 21 columns]"
      ]
     },
     "execution_count": 28,
     "metadata": {},
     "output_type": "execute_result"
    }
   ],
   "source": [
    "df[df['Year'] == 2025].sort_values('Value_Score', ascending=False).head(1)"
   ]
  },
  {
   "cell_type": "markdown",
   "id": "d6eecf75",
   "metadata": {},
   "source": [
    "What was the average shooting accuracy of the team in 2021?"
   ]
  },
  {
   "cell_type": "code",
   "execution_count": 29,
   "id": "62d39b75",
   "metadata": {},
   "outputs": [
    {
     "data": {
      "text/plain": [
       "np.float64(0.48847926267281105)"
      ]
     },
     "execution_count": 29,
     "metadata": {},
     "output_type": "execute_result"
    }
   ],
   "source": [
    "df[df['Year'] == 2021]['Goals'].sum() / df[df['Year'] == 2021]['Shots'].sum()"
   ]
  },
  {
   "cell_type": "markdown",
   "id": "07e4a685",
   "metadata": {},
   "source": [
    "Who was the most efficient scorer (highest Goals/Shots ratio) in 2025?"
   ]
  },
  {
   "cell_type": "code",
   "execution_count": 35,
   "id": "3bd44274",
   "metadata": {},
   "outputs": [],
   "source": [
    "df['Shooting_Accuracy'] = df['Goals'] / df['Shots'].replace(0, 1) \n"
   ]
  },
  {
   "cell_type": "code",
   "execution_count": 39,
   "id": "6fce3604",
   "metadata": {},
   "outputs": [],
   "source": [
    "df['Year'] = df['Year'].astype(int)"
   ]
  },
  {
   "cell_type": "code",
   "execution_count": 59,
   "id": "e93fa586",
   "metadata": {},
   "outputs": [
    {
     "name": "stdout",
     "output_type": "stream",
     "text": [
      "Most Efficient Scorer in 2023 (min 10 shots):\n",
      "Player               DeVito, Sam\n",
      "Goals                          8\n",
      "Shots                         12\n",
      "Shooting_Accuracy       0.666667\n",
      "Name: 190, dtype: object\n"
     ]
    }
   ],
   "source": [
    "df_2025 = df[(df['Year'] == 2025) & (df['Shots'] >= 10)]\n",
    "\n",
    "most_efficient = df_2025.sort_values('Shooting_Accuracy', ascending=False).iloc[0]\n",
    "print(\"Most Efficient Scorer in 2023 (min 10 shots):\")\n",
    "print(most_efficient[['Player', 'Goals', 'Shots', 'Shooting_Accuracy']])"
   ]
  },
  {
   "cell_type": "code",
   "execution_count": 60,
   "id": "f0032206",
   "metadata": {},
   "outputs": [
    {
     "data": {
      "text/html": [
       "<div>\n",
       "<style scoped>\n",
       "    .dataframe tbody tr th:only-of-type {\n",
       "        vertical-align: middle;\n",
       "    }\n",
       "\n",
       "    .dataframe tbody tr th {\n",
       "        vertical-align: top;\n",
       "    }\n",
       "\n",
       "    .dataframe thead th {\n",
       "        text-align: right;\n",
       "    }\n",
       "</style>\n",
       "<table border=\"1\" class=\"dataframe\">\n",
       "  <thead>\n",
       "    <tr style=\"text-align: right;\">\n",
       "      <th></th>\n",
       "      <th>Player</th>\n",
       "      <th>Goals</th>\n",
       "      <th>Shots</th>\n",
       "      <th>Shooting_Accuracy</th>\n",
       "    </tr>\n",
       "  </thead>\n",
       "  <tbody>\n",
       "    <tr>\n",
       "      <th>190</th>\n",
       "      <td>DeVito, Sam</td>\n",
       "      <td>8</td>\n",
       "      <td>12</td>\n",
       "      <td>0.666667</td>\n",
       "    </tr>\n",
       "    <tr>\n",
       "      <th>187</th>\n",
       "      <td>Adamson, Olivia</td>\n",
       "      <td>10</td>\n",
       "      <td>18</td>\n",
       "      <td>0.555556</td>\n",
       "    </tr>\n",
       "    <tr>\n",
       "      <th>182</th>\n",
       "      <td>Britton, Gracie</td>\n",
       "      <td>20</td>\n",
       "      <td>41</td>\n",
       "      <td>0.487805</td>\n",
       "    </tr>\n",
       "    <tr>\n",
       "      <th>181</th>\n",
       "      <td>Muchnick, Emma</td>\n",
       "      <td>34</td>\n",
       "      <td>71</td>\n",
       "      <td>0.478873</td>\n",
       "    </tr>\n",
       "    <tr>\n",
       "      <th>191</th>\n",
       "      <td>Parker, Annie</td>\n",
       "      <td>6</td>\n",
       "      <td>13</td>\n",
       "      <td>0.461538</td>\n",
       "    </tr>\n",
       "  </tbody>\n",
       "</table>\n",
       "</div>"
      ],
      "text/plain": [
       "              Player  Goals  Shots  Shooting_Accuracy\n",
       "190      DeVito, Sam      8     12           0.666667\n",
       "187  Adamson, Olivia     10     18           0.555556\n",
       "182  Britton, Gracie     20     41           0.487805\n",
       "181   Muchnick, Emma     34     71           0.478873\n",
       "191    Parker, Annie      6     13           0.461538"
      ]
     },
     "execution_count": 60,
     "metadata": {},
     "output_type": "execute_result"
    }
   ],
   "source": [
    "df_2025.sort_values('Shooting_Accuracy', ascending=False)[['Player', 'Goals', 'Shots', 'Shooting_Accuracy']].head(5)\n"
   ]
  },
  {
   "cell_type": "markdown",
   "id": "8c171d99",
   "metadata": {},
   "source": [
    "Who was the top goal scorer in 2025?"
   ]
  },
  {
   "cell_type": "code",
   "execution_count": 4,
   "id": "ba4e08ce",
   "metadata": {},
   "outputs": [
    {
     "data": {
      "text/plain": [
       "'Muchnick, Emma'"
      ]
     },
     "execution_count": 4,
     "metadata": {},
     "output_type": "execute_result"
    }
   ],
   "source": [
    "df[df['Year'] == 2025].sort_values('Goals', ascending=False).iloc[0]['Player']"
   ]
  },
  {
   "cell_type": "markdown",
   "id": "32511715",
   "metadata": {},
   "source": [
    "Which player had the highest GameChanger Score in 2024?"
   ]
  },
  {
   "cell_type": "code",
   "execution_count": 8,
   "id": "d705eb76",
   "metadata": {},
   "outputs": [],
   "source": [
    "df['GameChanger_Score'] = (\n",
    "    df['Goals'] * 2 +\n",
    "    df['Assists'] * 1.5 +\n",
    "    df['Game_Winning_Goals'] * 3 +\n",
    "    df['SOG_Percentage'] * 5 -\n",
    "    df['Turnovers']\n",
    ")"
   ]
  },
  {
   "cell_type": "code",
   "execution_count": 9,
   "id": "5e9820b2",
   "metadata": {},
   "outputs": [
    {
     "data": {
      "text/plain": [
       "'Tyrrell, Emma'"
      ]
     },
     "execution_count": 9,
     "metadata": {},
     "output_type": "execute_result"
    }
   ],
   "source": [
    "df[df['Year'] == 2024].sort_values('GameChanger_Score', ascending=False).iloc[0]['Player']"
   ]
  },
  {
   "cell_type": "markdown",
   "id": "90c70d1e",
   "metadata": {},
   "source": [
    "Who was the most improved player from 2020 to 2025?"
   ]
  },
  {
   "cell_type": "code",
   "execution_count": 10,
   "id": "8c103d22",
   "metadata": {},
   "outputs": [
    {
     "data": {
      "text/html": [
       "<div>\n",
       "<style scoped>\n",
       "    .dataframe tbody tr th:only-of-type {\n",
       "        vertical-align: middle;\n",
       "    }\n",
       "\n",
       "    .dataframe tbody tr th {\n",
       "        vertical-align: top;\n",
       "    }\n",
       "\n",
       "    .dataframe thead th {\n",
       "        text-align: right;\n",
       "    }\n",
       "</style>\n",
       "<table border=\"1\" class=\"dataframe\">\n",
       "  <thead>\n",
       "    <tr style=\"text-align: right;\">\n",
       "      <th>Year</th>\n",
       "      <th>2020</th>\n",
       "      <th>2021</th>\n",
       "      <th>2022</th>\n",
       "      <th>2023</th>\n",
       "      <th>2024</th>\n",
       "      <th>2025</th>\n",
       "      <th>Improvement</th>\n",
       "    </tr>\n",
       "    <tr>\n",
       "      <th>Player</th>\n",
       "      <th></th>\n",
       "      <th></th>\n",
       "      <th></th>\n",
       "      <th></th>\n",
       "      <th></th>\n",
       "      <th></th>\n",
       "      <th></th>\n",
       "    </tr>\n",
       "  </thead>\n",
       "  <tbody>\n",
       "    <tr>\n",
       "      <th>Ward, Emma</th>\n",
       "      <td>NaN</td>\n",
       "      <td>73.0</td>\n",
       "      <td>NaN</td>\n",
       "      <td>94.0</td>\n",
       "      <td>81.0</td>\n",
       "      <td>76.0</td>\n",
       "      <td>76.0</td>\n",
       "    </tr>\n",
       "  </tbody>\n",
       "</table>\n",
       "</div>"
      ],
      "text/plain": [
       "Year        2020  2021  2022  2023  2024  2025  Improvement\n",
       "Player                                                     \n",
       "Ward, Emma   NaN  73.0   NaN  94.0  81.0  76.0         76.0"
      ]
     },
     "execution_count": 10,
     "metadata": {},
     "output_type": "execute_result"
    }
   ],
   "source": [
    "# Average points by player by year\n",
    "pivot = df.pivot_table(index='Player', columns='Year', values='Points', aggfunc='sum')\n",
    "\n",
    "# Calculate improvement from earliest to latest year (or use specific years like 2020 to 2025)\n",
    "pivot['Improvement'] = pivot[2025].fillna(0) - pivot[2020].fillna(0)\n",
    "\n",
    "\n",
    "# Top improved player\n",
    "pivot.sort_values(by='Improvement', ascending=False).head(1)"
   ]
  },
  {
   "cell_type": "markdown",
   "id": "b6d0a15d",
   "metadata": {},
   "source": [
    "If the coach wants to win 2 more games in 2025, should they focus on offense or defense? Which player could help most?"
   ]
  },
  {
   "cell_type": "code",
   "execution_count": 22,
   "id": "1efd459f",
   "metadata": {},
   "outputs": [
    {
     "name": "stdout",
     "output_type": "stream",
     "text": [
      "\n",
      "🏹 2025 Offense Summary:\n",
      "Total Goals: 234\n",
      "Total Assists: 112\n",
      "Average Shooting Accuracy (SOG%): 0.486\n",
      "Total Turnovers: 255\n",
      "\n",
      "🔥 High-Efficiency Scorers in 2025 (SOG% > 0.75 & Goals > 5):\n",
      "                 Player  Goals  SOG_Percentage\n",
      "180  Trinkaus, Caroline     32           0.792\n",
      "181      Muchnick, Emma     34           0.775\n",
      "182     Britton, Gracie     20           0.805\n",
      "183     Vogelman, Alexa     21           0.761\n",
      "184     Cotter, Mileena     21           0.760\n",
      "190         DeVito, Sam      8           0.917\n",
      "\n",
      "🎯 Top Playmaker: Ward, Emma with 46 assists\n",
      "\n",
      "⚠️ Highest Turnovers: Ward, Emma with 41 turnovers\n",
      "\n",
      "🏆 Suggestion:\n",
      "Focus on maximizing offensive output by coordinating between Ward, Emma and high-efficiency finishers like:\n",
      " - Trinkaus, Caroline\n",
      " - Muchnick, Emma\n",
      " - Britton, Gracie\n",
      " - Vogelman, Alexa\n",
      " - Cotter, Mileena\n",
      " - DeVito, Sam\n"
     ]
    }
   ],
   "source": [
    "# Filter for 2025 season\n",
    "df_2025 = df[df['Year'] == 2025].copy()\n",
    "\n",
    "# Calculate total team offense stats\n",
    "total_goals = df_2025['Goals'].sum()\n",
    "total_assists = df_2025['Assists'].sum()\n",
    "avg_sog = df_2025['SOG_Percentage'].mean()\n",
    "total_turnovers = df_2025['Turnovers'].sum()\n",
    "\n",
    "print(f\"\\n🏹 2025 Offense Summary:\")\n",
    "print(f\"Total Goals: {total_goals}\")\n",
    "print(f\"Total Assists: {total_assists}\")\n",
    "print(f\"Average Shooting Accuracy (SOG%): {avg_sog:.3f}\")\n",
    "print(f\"Total Turnovers: {total_turnovers}\")\n",
    "\n",
    "# Find most efficient players (SOG% > 0.75 and Goals > 5)\n",
    "efficient_scorers = df_2025[(df_2025['SOG_Percentage'] > 0.75) & (df_2025['Goals'] > 5)]\n",
    "print(\"\\n🔥 High-Efficiency Scorers in 2025 (SOG% > 0.75 & Goals > 5):\")\n",
    "print(efficient_scorers[['Player', 'Goals', 'SOG_Percentage']])\n",
    "\n",
    "# Find best playmaker (most assists)\n",
    "top_playmaker = df_2025.sort_values(by='Assists', ascending=False).iloc[0]\n",
    "print(f\"\\n🎯 Top Playmaker: {top_playmaker['Player']} with {top_playmaker['Assists']} assists\")\n",
    "\n",
    "# Find player with most turnovers (defensive concern)\n",
    "most_turnovers = df_2025.sort_values(by='Turnovers', ascending=False).iloc[0]\n",
    "print(f\"\\n⚠️ Highest Turnovers: {most_turnovers['Player']} with {most_turnovers['Turnovers']} turnovers\")\n",
    "\n",
    "# GameChanger suggestion\n",
    "print(\"\\n🏆 Suggestion:\")\n",
    "print(f\"Focus on maximizing offensive output by coordinating between {top_playmaker['Player']} and high-efficiency finishers like:\")\n",
    "for player in efficient_scorers['Player'].tolist():\n",
    "    print(f\" - {player}\")"
   ]
  }
 ],
 "metadata": {
  "kernelspec": {
   "display_name": "Python 3",
   "language": "python",
   "name": "python3"
  },
  "language_info": {
   "codemirror_mode": {
    "name": "ipython",
    "version": 3
   },
   "file_extension": ".py",
   "mimetype": "text/x-python",
   "name": "python",
   "nbconvert_exporter": "python",
   "pygments_lexer": "ipython3",
   "version": "3.12.1"
  }
 },
 "nbformat": 4,
 "nbformat_minor": 5
}
